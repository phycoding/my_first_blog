{
  "nbformat": 4,
  "nbformat_minor": 0,
  "metadata": {
    "colab": {
      "name": "BasicNeuralNetwork-TrainingAndEvaluation_Assignment.ipynb",
      "provenance": [],
      "collapsed_sections": [],
      "authorship_tag": "ABX9TyPsDLEHUWvC8D6IJG26KwWB",
      "include_colab_link": true
    },
    "kernelspec": {
      "name": "python3",
      "display_name": "Python 3"
    },
    "language_info": {
      "name": "python"
    },
    "accelerator": "GPU"
  },
  "cells": [
    {
      "cell_type": "markdown",
      "metadata": {
        "id": "view-in-github",
        "colab_type": "text"
      },
      "source": [
        "<a href=\"https://colab.research.google.com/github/phycoding/my_first_blog/blob/main/BasicNeuralNetwork_TrainingAndEvaluation_Assignment.ipynb\" target=\"_parent\"><img src=\"https://colab.research.google.com/assets/colab-badge.svg\" alt=\"Open In Colab\"/></a>"
      ]
    },
    {
      "cell_type": "code",
      "metadata": {
        "id": "SqoDcn96MEjl"
      },
      "source": [
        "import tensorflow as tf\n",
        "import keras\n",
        "import numpy as np\n",
        "import matplotlib.pyplot as plt"
      ],
      "execution_count": 68,
      "outputs": []
    },
    {
      "cell_type": "code",
      "metadata": {
        "id": "YNClLpxOMrnl"
      },
      "source": [
        "(x_train, y_train), (x_test, y_test) = tf.keras.datasets.cifar10.load_data()\n",
        "assert x_train.shape == (50000, 32, 32, 3)\n",
        "assert x_test.shape == (10000, 32, 32, 3)\n",
        "assert y_train.shape == (50000, 1)\n",
        "assert y_test.shape == (10000, 1)"
      ],
      "execution_count": 69,
      "outputs": []
    },
    {
      "cell_type": "code",
      "metadata": {
        "colab": {
          "base_uri": "https://localhost:8080/"
        },
        "id": "DK_kUIXZM9np",
        "outputId": "91019b55-0948-4ea7-f80a-61e11ead8a3b"
      },
      "source": [
        "x_train[0].shape"
      ],
      "execution_count": 70,
      "outputs": [
        {
          "output_type": "execute_result",
          "data": {
            "text/plain": [
              "(32, 32, 3)"
            ]
          },
          "metadata": {
            "tags": []
          },
          "execution_count": 70
        }
      ]
    },
    {
      "cell_type": "code",
      "metadata": {
        "id": "PWTQQGiQN2uA"
      },
      "source": [
        "Name = ('Airplane','Automobile','Bird','Cat','Deer','Dog','Frog','Horse','Ship','Truck')"
      ],
      "execution_count": 71,
      "outputs": []
    },
    {
      "cell_type": "code",
      "metadata": {
        "id": "WK1Chig9MvVR"
      },
      "source": [
        "def show_img(index):\n",
        "  plt.imshow(x_train[index],interpolation='nearest')\n",
        "  plt.axis('off')\n",
        "  plt.title(Name[int(y_train[index])])\n",
        "  plt.show()"
      ],
      "execution_count": 72,
      "outputs": []
    },
    {
      "cell_type": "code",
      "metadata": {
        "colab": {
          "base_uri": "https://localhost:8080/",
          "height": 264
        },
        "id": "tkNndCtRM1j-",
        "outputId": "695b8fac-d5f8-4e19-bc10-134886551217"
      },
      "source": [
        "show_img(4)"
      ],
      "execution_count": 73,
      "outputs": [
        {
          "output_type": "display_data",
          "data": {
            "image/png": "[encoded data removed]",
            "text/plain": [
              "<Figure size 432x288 with 1 Axes>"
            ]
          },
          "metadata": {
            "tags": [],
            "needs_background": "light"
          }
        }
      ]
    },
    {
      "cell_type": "code",
      "metadata": {
        "colab": {
          "base_uri": "https://localhost:8080/"
        },
        "id": "AsyPOX_AzgTu",
        "outputId": "cad3b8dd-f01f-49f5-bb21-bcaa0bd94cfd"
      },
      "source": [
        "#Label Encoding\n",
        "from sklearn.preprocessing import LabelEncoder\n",
        "from keras.utils import np_utils\n",
        "le = LabelEncoder()\n",
        "img_labels = le.fit_transform(y_train)\n",
        "img_labels = np_utils.to_categorical(img_labels)\n",
        "img_labels.shape"
      ],
      "execution_count": 74,
      "outputs": [
        {
          "output_type": "stream",
          "text": [
            "/usr/local/lib/python3.7/dist-packages/sklearn/preprocessing/_label.py:251: DataConversionWarning: A column-vector y was passed when a 1d array was expected. Please change the shape of y to (n_samples, ), for example using ravel().\n",
            "  y = column_or_1d(y, warn=True)\n"
          ],
          "name": "stderr"
        },
        {
          "output_type": "execute_result",
          "data": {
            "text/plain": [
              "(50000, 10)"
            ]
          },
          "metadata": {
            "tags": []
          },
          "execution_count": 74
        }
      ]
    },
    {
      "cell_type": "code",
      "metadata": {
        "colab": {
          "base_uri": "https://localhost:8080/"
        },
        "id": "5HSqABOBzn6r",
        "outputId": "15c936bf-f0c4-44de-8a6a-771a38cbc7d3"
      },
      "source": [
        "img_labels"
      ],
      "execution_count": 75,
      "outputs": [
        {
          "output_type": "execute_result",
          "data": {
            "text/plain": [
              "array([[0., 0., 0., ..., 0., 0., 0.],\n",
              "       [0., 0., 0., ..., 0., 0., 1.],\n",
              "       [0., 0., 0., ..., 0., 0., 1.],\n",
              "       ...,\n",
              "       [0., 0., 0., ..., 0., 0., 1.],\n",
              "       [0., 1., 0., ..., 0., 0., 0.],\n",
              "       [0., 1., 0., ..., 0., 0., 0.]], dtype=float32)"
            ]
          },
          "metadata": {
            "tags": []
          },
          "execution_count": 75
        }
      ]
    },
    {
      "cell_type": "code",
      "metadata": {
        "id": "SXFHXftRNFqD"
      },
      "source": [
        "NetA = keras.models.Sequential([\n",
        "                                keras.layers.Flatten(input_shape = x_train[0].shape),\n",
        "                                keras.layers.Dense(10,activation='sigmoid'),                             \n",
        "])\n",
        "NetA.compile(optimizer = 'adam',loss = 'sparse_categorical_crossentropy',metrics = 'accuracy')"
      ],
      "execution_count": 76,
      "outputs": []
    },
    {
      "cell_type": "code",
      "metadata": {
        "colab": {
          "base_uri": "https://localhost:8080/"
        },
        "id": "4j1MGncw0C1t",
        "outputId": "a1e5740e-71d0-43ef-dafc-8ce771ad2ba3"
      },
      "source": [
        "NetA.summary()"
      ],
      "execution_count": 77,
      "outputs": [
        {
          "output_type": "stream",
          "text": [
            "Model: \"sequential_6\"\n",
            "_________________________________________________________________\n",
            "Layer (type)                 Output Shape              Param #   \n",
            "=================================================================\n",
            "flatten_4 (Flatten)          (None, 3072)              0         \n",
            "_________________________________________________________________\n",
            "dense_12 (Dense)             (None, 10)                30730     \n",
            "=================================================================\n",
            "Total params: 30,730\n",
            "Trainable params: 30,730\n",
            "Non-trainable params: 0\n",
            "_________________________________________________________________\n"
          ],
          "name": "stdout"
        }
      ]
    },
    {
      "cell_type": "code",
      "metadata": {
        "colab": {
          "base_uri": "https://localhost:8080/"
        },
        "id": "caMo_it30HSD",
        "outputId": "0cd0615e-5d9c-4ef9-97c0-218c9a1c5d4c"
      },
      "source": [
        "NetA.fit(x_train,y_train,epochs=50)"
      ],
      "execution_count": 78,
      "outputs": [
        {
          "output_type": "stream",
          "text": [
            "Epoch 1/50\n",
            "1563/1563 [==============================] - 4s 2ms/step - loss: 121.7654 - accuracy: 0.2145\n",
            "Epoch 2/50\n",
            "1563/1563 [==============================] - 3s 2ms/step - loss: 88.3842 - accuracy: 0.2584\n",
            "Epoch 3/50\n",
            "1563/1563 [==============================] - 3s 2ms/step - loss: 82.4413 - accuracy: 0.2709\n",
            "Epoch 4/50\n",
            "1563/1563 [==============================] - 3s 2ms/step - loss: 85.0645 - accuracy: 0.2705\n",
            "Epoch 5/50\n",
            "1563/1563 [==============================] - 3s 2ms/step - loss: 86.5304 - accuracy: 0.2759\n",
            "Epoch 6/50\n",
            "1563/1563 [==============================] - 3s 2ms/step - loss: 85.7632 - accuracy: 0.2754\n",
            "Epoch 7/50\n",
            "1563/1563 [==============================] - 3s 2ms/step - loss: 83.5824 - accuracy: 0.2835\n",
            "Epoch 8/50\n",
            "1563/1563 [==============================] - 3s 2ms/step - loss: 81.8989 - accuracy: 0.2797\n",
            "Epoch 9/50\n",
            "1563/1563 [==============================] - 3s 2ms/step - loss: 84.0133 - accuracy: 0.2786\n",
            "Epoch 10/50\n",
            "1563/1563 [==============================] - 3s 2ms/step - loss: 84.4008 - accuracy: 0.2805\n",
            "Epoch 11/50\n",
            "1563/1563 [==============================] - 3s 2ms/step - loss: 81.8957 - accuracy: 0.2836\n",
            "Epoch 12/50\n",
            "1563/1563 [==============================] - 3s 2ms/step - loss: 85.4367 - accuracy: 0.2782\n",
            "Epoch 13/50\n",
            "1563/1563 [==============================] - 3s 2ms/step - loss: 80.5024 - accuracy: 0.2863\n",
            "Epoch 14/50\n",
            "1563/1563 [==============================] - 3s 2ms/step - loss: 81.8743 - accuracy: 0.2869\n",
            "Epoch 15/50\n",
            "1563/1563 [==============================] - 3s 2ms/step - loss: 77.1808 - accuracy: 0.2931\n",
            "Epoch 16/50\n",
            "1563/1563 [==============================] - 3s 2ms/step - loss: 81.7394 - accuracy: 0.2851\n",
            "Epoch 17/50\n",
            "1563/1563 [==============================] - 3s 2ms/step - loss: 82.1866 - accuracy: 0.2916\n",
            "Epoch 18/50\n",
            "1563/1563 [==============================] - 3s 2ms/step - loss: 88.1509 - accuracy: 0.2829\n",
            "Epoch 19/50\n",
            "1563/1563 [==============================] - 3s 2ms/step - loss: 79.7701 - accuracy: 0.2913\n",
            "Epoch 20/50\n",
            "1563/1563 [==============================] - 3s 2ms/step - loss: 83.8045 - accuracy: 0.2909\n",
            "Epoch 21/50\n",
            "1563/1563 [==============================] - 3s 2ms/step - loss: 81.1592 - accuracy: 0.2918\n",
            "Epoch 22/50\n",
            "1563/1563 [==============================] - 3s 2ms/step - loss: 85.1461 - accuracy: 0.2860\n",
            "Epoch 23/50\n",
            "1563/1563 [==============================] - 3s 2ms/step - loss: 87.4338 - accuracy: 0.2911\n",
            "Epoch 24/50\n",
            "1563/1563 [==============================] - 3s 2ms/step - loss: 80.0655 - accuracy: 0.2911\n",
            "Epoch 25/50\n",
            "1563/1563 [==============================] - 3s 2ms/step - loss: 83.3538 - accuracy: 0.2946\n",
            "Epoch 26/50\n",
            "1563/1563 [==============================] - 3s 2ms/step - loss: 78.0099 - accuracy: 0.2977\n",
            "Epoch 27/50\n",
            "1563/1563 [==============================] - 3s 2ms/step - loss: 86.0958 - accuracy: 0.2917\n",
            "Epoch 28/50\n",
            "1563/1563 [==============================] - 3s 2ms/step - loss: 80.2482 - accuracy: 0.2961\n",
            "Epoch 29/50\n",
            "1563/1563 [==============================] - 3s 2ms/step - loss: 83.1647 - accuracy: 0.2923\n",
            "Epoch 30/50\n",
            "1563/1563 [==============================] - 3s 2ms/step - loss: 81.3271 - accuracy: 0.2956\n",
            "Epoch 31/50\n",
            "1563/1563 [==============================] - 3s 2ms/step - loss: 79.5893 - accuracy: 0.2951\n",
            "Epoch 32/50\n",
            "1563/1563 [==============================] - 3s 2ms/step - loss: 83.1317 - accuracy: 0.2969\n",
            "Epoch 33/50\n",
            "1563/1563 [==============================] - 3s 2ms/step - loss: 84.7931 - accuracy: 0.2897\n",
            "Epoch 34/50\n",
            "1563/1563 [==============================] - 3s 2ms/step - loss: 80.4916 - accuracy: 0.2947\n",
            "Epoch 35/50\n",
            "1563/1563 [==============================] - 3s 2ms/step - loss: 85.9002 - accuracy: 0.2965\n",
            "Epoch 36/50\n",
            "1563/1563 [==============================] - 3s 2ms/step - loss: 80.7475 - accuracy: 0.2932\n",
            "Epoch 37/50\n",
            "1563/1563 [==============================] - 3s 2ms/step - loss: 90.2630 - accuracy: 0.2866\n",
            "Epoch 38/50\n",
            "1563/1563 [==============================] - 3s 2ms/step - loss: 85.3930 - accuracy: 0.2975\n",
            "Epoch 39/50\n",
            "1563/1563 [==============================] - 3s 2ms/step - loss: 82.7431 - accuracy: 0.2997\n",
            "Epoch 40/50\n",
            "1563/1563 [==============================] - 3s 2ms/step - loss: 83.1198 - accuracy: 0.2979\n",
            "Epoch 41/50\n",
            "1563/1563 [==============================] - 3s 2ms/step - loss: 82.0294 - accuracy: 0.2996\n",
            "Epoch 42/50\n",
            "1563/1563 [==============================] - 3s 2ms/step - loss: 83.8464 - accuracy: 0.2973\n",
            "Epoch 43/50\n",
            "1563/1563 [==============================] - 3s 2ms/step - loss: 78.9120 - accuracy: 0.3024\n",
            "Epoch 44/50\n",
            "1563/1563 [==============================] - 3s 2ms/step - loss: 81.3251 - accuracy: 0.3006\n",
            "Epoch 45/50\n",
            "1563/1563 [==============================] - 3s 2ms/step - loss: 84.5310 - accuracy: 0.2982\n",
            "Epoch 46/50\n",
            "1563/1563 [==============================] - 3s 2ms/step - loss: 78.9543 - accuracy: 0.2992\n",
            "Epoch 47/50\n",
            "1563/1563 [==============================] - 3s 2ms/step - loss: 76.1534 - accuracy: 0.3063\n",
            "Epoch 48/50\n",
            "1563/1563 [==============================] - 3s 2ms/step - loss: 76.1319 - accuracy: 0.3038\n",
            "Epoch 49/50\n",
            "1563/1563 [==============================] - 3s 2ms/step - loss: 79.3603 - accuracy: 0.3008\n",
            "Epoch 50/50\n",
            "1563/1563 [==============================] - 3s 2ms/step - loss: 82.0563 - accuracy: 0.3028\n"
          ],
          "name": "stdout"
        },
        {
          "output_type": "execute_result",
          "data": {
            "text/plain": [
              "<keras.callbacks.History at 0x7f9e9328ee50>"
            ]
          },
          "metadata": {
            "tags": []
          },
          "execution_count": 78
        }
      ]
    },
    {
      "cell_type": "code",
      "metadata": {
        "colab": {
          "base_uri": "https://localhost:8080/"
        },
        "id": "NCdgZVog9k1l",
        "outputId": "bc43b166-63ce-40fa-f23e-715f6a0ba73d"
      },
      "source": [
        "x_train[0].shape"
      ],
      "execution_count": 79,
      "outputs": [
        {
          "output_type": "execute_result",
          "data": {
            "text/plain": [
              "(32, 32, 3)"
            ]
          },
          "metadata": {
            "tags": []
          },
          "execution_count": 79
        }
      ]
    },
    {
      "cell_type": "code",
      "metadata": {
        "id": "G2vMdYQTCAd5"
      },
      "source": [
        "x_train = x_train.astype(\"float32\") / 255\n",
        "x_test = x_test.astype(\"float32\") / 255"
      ],
      "execution_count": 80,
      "outputs": []
    },
    {
      "cell_type": "code",
      "metadata": {
        "id": "2KGwkPtt0hV-"
      },
      "source": [
        "NetB = keras.models.Sequential([\n",
        "        keras.layers.Flatten(input_shape=(32,32,3)),\n",
        "        keras.layers.Dense(128, activation='relu'),\n",
        "        keras.layers.Dense(128, activation='relu'),\n",
        "        keras.layers.Dense(44, activation='relu'),\n",
        "        keras.layers.Dense(10,activation='softmax'),\n",
        "])\n",
        "\n",
        "NetB.compile(optimizer='adam',\n",
        "             loss='sparse_categorical_crossentropy',\n",
        "             metrics=['accuracy'])"
      ],
      "execution_count": 81,
      "outputs": []
    },
    {
      "cell_type": "code",
      "metadata": {
        "colab": {
          "base_uri": "https://localhost:8080/"
        },
        "id": "8PhVS2MR51fO",
        "outputId": "369282cc-10af-440b-c466-03e4f26c8f95"
      },
      "source": [
        "NetB.summary()"
      ],
      "execution_count": 82,
      "outputs": [
        {
          "output_type": "stream",
          "text": [
            "Model: \"sequential_7\"\n",
            "_________________________________________________________________\n",
            "Layer (type)                 Output Shape              Param #   \n",
            "=================================================================\n",
            "flatten_5 (Flatten)          (None, 3072)              0         \n",
            "_________________________________________________________________\n",
            "dense_13 (Dense)             (None, 128)               393344    \n",
            "_________________________________________________________________\n",
            "dense_14 (Dense)             (None, 128)               16512     \n",
            "_________________________________________________________________\n",
            "dense_15 (Dense)             (None, 44)                5676      \n",
            "_________________________________________________________________\n",
            "dense_16 (Dense)             (None, 10)                450       \n",
            "=================================================================\n",
            "Total params: 415,982\n",
            "Trainable params: 415,982\n",
            "Non-trainable params: 0\n",
            "_________________________________________________________________\n"
          ],
          "name": "stdout"
        }
      ]
    },
    {
      "cell_type": "code",
      "metadata": {
        "colab": {
          "base_uri": "https://localhost:8080/"
        },
        "id": "Uki0Sfo156wF",
        "outputId": "6e117a83-c412-4672-b00c-0979c9fc1b43"
      },
      "source": [
        "NetB.fit(x_train,y_train,epochs=50)"
      ],
      "execution_count": 83,
      "outputs": [
        {
          "output_type": "stream",
          "text": [
            "Epoch 1/50\n",
            "1563/1563 [==============================] - 5s 3ms/step - loss: 1.9882 - accuracy: 0.2726\n",
            "Epoch 2/50\n",
            "1563/1563 [==============================] - 4s 3ms/step - loss: 1.6997 - accuracy: 0.3930\n",
            "Epoch 3/50\n",
            "1563/1563 [==============================] - 4s 3ms/step - loss: 1.6232 - accuracy: 0.4160\n",
            "Epoch 4/50\n",
            "1563/1563 [==============================] - 4s 3ms/step - loss: 1.5708 - accuracy: 0.4393\n",
            "Epoch 5/50\n",
            "1563/1563 [==============================] - 4s 3ms/step - loss: 1.5227 - accuracy: 0.4581\n",
            "Epoch 6/50\n",
            "1563/1563 [==============================] - 4s 3ms/step - loss: 1.4947 - accuracy: 0.4634\n",
            "Epoch 7/50\n",
            "1563/1563 [==============================] - 4s 3ms/step - loss: 1.4781 - accuracy: 0.4728\n",
            "Epoch 8/50\n",
            "1563/1563 [==============================] - 4s 3ms/step - loss: 1.4536 - accuracy: 0.4793\n",
            "Epoch 9/50\n",
            "1563/1563 [==============================] - 4s 3ms/step - loss: 1.4385 - accuracy: 0.4878\n",
            "Epoch 10/50\n",
            "1563/1563 [==============================] - 4s 3ms/step - loss: 1.4195 - accuracy: 0.4948\n",
            "Epoch 11/50\n",
            "1563/1563 [==============================] - 4s 3ms/step - loss: 1.4111 - accuracy: 0.4992\n",
            "Epoch 12/50\n",
            "1563/1563 [==============================] - 4s 3ms/step - loss: 1.3895 - accuracy: 0.5047\n",
            "Epoch 13/50\n",
            "1563/1563 [==============================] - 4s 3ms/step - loss: 1.3816 - accuracy: 0.5041\n",
            "Epoch 14/50\n",
            "1563/1563 [==============================] - 4s 3ms/step - loss: 1.3715 - accuracy: 0.5074\n",
            "Epoch 15/50\n",
            "1563/1563 [==============================] - 4s 3ms/step - loss: 1.3697 - accuracy: 0.5110\n",
            "Epoch 16/50\n",
            "1563/1563 [==============================] - 4s 3ms/step - loss: 1.3451 - accuracy: 0.5176\n",
            "Epoch 17/50\n",
            "1563/1563 [==============================] - 4s 3ms/step - loss: 1.3354 - accuracy: 0.5229\n",
            "Epoch 18/50\n",
            "1563/1563 [==============================] - 4s 3ms/step - loss: 1.3392 - accuracy: 0.5200\n",
            "Epoch 19/50\n",
            "1563/1563 [==============================] - 4s 3ms/step - loss: 1.3314 - accuracy: 0.5248\n",
            "Epoch 20/50\n",
            "1563/1563 [==============================] - 4s 3ms/step - loss: 1.3232 - accuracy: 0.5282\n",
            "Epoch 21/50\n",
            "1563/1563 [==============================] - 4s 3ms/step - loss: 1.3235 - accuracy: 0.5252\n",
            "Epoch 22/50\n",
            "1563/1563 [==============================] - 4s 3ms/step - loss: 1.3044 - accuracy: 0.5336\n",
            "Epoch 23/50\n",
            "1563/1563 [==============================] - 4s 3ms/step - loss: 1.2943 - accuracy: 0.5314\n",
            "Epoch 24/50\n",
            "1563/1563 [==============================] - 4s 3ms/step - loss: 1.2875 - accuracy: 0.5384\n",
            "Epoch 25/50\n",
            "1563/1563 [==============================] - 4s 3ms/step - loss: 1.2894 - accuracy: 0.5357\n",
            "Epoch 26/50\n",
            "1563/1563 [==============================] - 4s 3ms/step - loss: 1.2692 - accuracy: 0.5450\n",
            "Epoch 27/50\n",
            "1563/1563 [==============================] - 4s 3ms/step - loss: 1.2758 - accuracy: 0.5412\n",
            "Epoch 28/50\n",
            "1563/1563 [==============================] - 4s 3ms/step - loss: 1.2606 - accuracy: 0.5473\n",
            "Epoch 29/50\n",
            "1563/1563 [==============================] - 4s 3ms/step - loss: 1.2536 - accuracy: 0.5505\n",
            "Epoch 30/50\n",
            "1563/1563 [==============================] - 4s 3ms/step - loss: 1.2552 - accuracy: 0.5513\n",
            "Epoch 31/50\n",
            "1563/1563 [==============================] - 4s 3ms/step - loss: 1.2426 - accuracy: 0.5536\n",
            "Epoch 32/50\n",
            "1563/1563 [==============================] - 4s 3ms/step - loss: 1.2470 - accuracy: 0.5508\n",
            "Epoch 33/50\n",
            "1563/1563 [==============================] - 4s 3ms/step - loss: 1.2473 - accuracy: 0.5546\n",
            "Epoch 34/50\n",
            "1563/1563 [==============================] - 4s 3ms/step - loss: 1.2292 - accuracy: 0.5588\n",
            "Epoch 35/50\n",
            "1563/1563 [==============================] - 4s 3ms/step - loss: 1.2256 - accuracy: 0.5628\n",
            "Epoch 36/50\n",
            "1563/1563 [==============================] - 4s 3ms/step - loss: 1.2262 - accuracy: 0.5583\n",
            "Epoch 37/50\n",
            "1563/1563 [==============================] - 4s 3ms/step - loss: 1.2198 - accuracy: 0.5611\n",
            "Epoch 38/50\n",
            "1563/1563 [==============================] - 4s 3ms/step - loss: 1.2136 - accuracy: 0.5634\n",
            "Epoch 39/50\n",
            "1563/1563 [==============================] - 4s 3ms/step - loss: 1.2169 - accuracy: 0.5627\n",
            "Epoch 40/50\n",
            "1563/1563 [==============================] - 4s 3ms/step - loss: 1.2068 - accuracy: 0.5668\n",
            "Epoch 41/50\n",
            "1563/1563 [==============================] - 4s 3ms/step - loss: 1.2076 - accuracy: 0.5685\n",
            "Epoch 42/50\n",
            "1563/1563 [==============================] - 4s 3ms/step - loss: 1.2023 - accuracy: 0.5706\n",
            "Epoch 43/50\n",
            "1563/1563 [==============================] - 4s 3ms/step - loss: 1.1998 - accuracy: 0.5692\n",
            "Epoch 44/50\n",
            "1563/1563 [==============================] - 4s 3ms/step - loss: 1.1921 - accuracy: 0.5761\n",
            "Epoch 45/50\n",
            "1563/1563 [==============================] - 4s 3ms/step - loss: 1.2094 - accuracy: 0.5652\n",
            "Epoch 46/50\n",
            "1563/1563 [==============================] - 4s 3ms/step - loss: 1.1870 - accuracy: 0.5745\n",
            "Epoch 47/50\n",
            "1563/1563 [==============================] - 4s 3ms/step - loss: 1.1850 - accuracy: 0.5745\n",
            "Epoch 48/50\n",
            "1563/1563 [==============================] - 4s 3ms/step - loss: 1.1817 - accuracy: 0.5779\n",
            "Epoch 49/50\n",
            "1563/1563 [==============================] - 4s 3ms/step - loss: 1.1680 - accuracy: 0.5802\n",
            "Epoch 50/50\n",
            "1563/1563 [==============================] - 4s 3ms/step - loss: 1.1724 - accuracy: 0.5755\n"
          ],
          "name": "stdout"
        },
        {
          "output_type": "execute_result",
          "data": {
            "text/plain": [
              "<keras.callbacks.History at 0x7f9e932adfd0>"
            ]
          },
          "metadata": {
            "tags": []
          },
          "execution_count": 83
        }
      ]
    },
    {
      "cell_type": "code",
      "metadata": {
        "colab": {
          "base_uri": "https://localhost:8080/"
        },
        "id": "dd8jCmOl6Av-",
        "outputId": "088d83c5-6b62-4de5-b092-1aec2fe9cc12"
      },
      "source": [
        "NetC = keras.models.Sequential(\n",
        "    [\n",
        "        keras.layers.Conv2D(25, kernel_size=(5, 5), activation=\"relu\",input_shape=x_train[0].shape),\n",
        "        keras.layers.MaxPool2D(pool_size=(2, 2),strides =2 ),\n",
        "        keras.layers.Flatten(),\n",
        "        keras.layers.Dense(10, activation=\"softmax\"),\n",
        "    ]\n",
        ")\n",
        "\n",
        "NetC.summary()"
      ],
      "execution_count": 84,
      "outputs": [
        {
          "output_type": "stream",
          "text": [
            "Model: \"sequential_8\"\n",
            "_________________________________________________________________\n",
            "Layer (type)                 Output Shape              Param #   \n",
            "=================================================================\n",
            "conv2d_5 (Conv2D)            (None, 28, 28, 25)        1900      \n",
            "_________________________________________________________________\n",
            "max_pooling2d_3 (MaxPooling2 (None, 14, 14, 25)        0         \n",
            "_________________________________________________________________\n",
            "flatten_6 (Flatten)          (None, 4900)              0         \n",
            "_________________________________________________________________\n",
            "dense_17 (Dense)             (None, 10)                49010     \n",
            "=================================================================\n",
            "Total params: 50,910\n",
            "Trainable params: 50,910\n",
            "Non-trainable params: 0\n",
            "_________________________________________________________________\n"
          ],
          "name": "stdout"
        }
      ]
    },
    {
      "cell_type": "code",
      "metadata": {
        "colab": {
          "base_uri": "https://localhost:8080/"
        },
        "id": "9EJVqzvLEEa3",
        "outputId": "fbfc1374-0b3d-4f0f-e31d-88175da53837"
      },
      "source": [
        "NetC.compile(loss = 'sparse_categorical_crossentropy',optimizer='adam',metrics=['accuracy'])\n",
        "NetC.fit(x_train,y_train,epochs=50)"
      ],
      "execution_count": 85,
      "outputs": [
        {
          "output_type": "stream",
          "text": [
            "Epoch 1/50\n",
            "1563/1563 [==============================] - 5s 3ms/step - loss: 1.7411 - accuracy: 0.3717\n",
            "Epoch 2/50\n",
            "1563/1563 [==============================] - 4s 3ms/step - loss: 1.3305 - accuracy: 0.5321\n",
            "Epoch 3/50\n",
            "1563/1563 [==============================] - 4s 3ms/step - loss: 1.2018 - accuracy: 0.5823\n",
            "Epoch 4/50\n",
            "1563/1563 [==============================] - 4s 3ms/step - loss: 1.1243 - accuracy: 0.6087\n",
            "Epoch 5/50\n",
            "1563/1563 [==============================] - 4s 3ms/step - loss: 1.0366 - accuracy: 0.6455\n",
            "Epoch 6/50\n",
            "1563/1563 [==============================] - 4s 3ms/step - loss: 1.0067 - accuracy: 0.6514\n",
            "Epoch 7/50\n",
            "1563/1563 [==============================] - 4s 3ms/step - loss: 0.9636 - accuracy: 0.6678\n",
            "Epoch 8/50\n",
            "1563/1563 [==============================] - 4s 3ms/step - loss: 0.9228 - accuracy: 0.6798\n",
            "Epoch 9/50\n",
            "1563/1563 [==============================] - 4s 3ms/step - loss: 0.9023 - accuracy: 0.6887\n",
            "Epoch 10/50\n",
            "1563/1563 [==============================] - 4s 3ms/step - loss: 0.8803 - accuracy: 0.6959\n",
            "Epoch 11/50\n",
            "1563/1563 [==============================] - 4s 3ms/step - loss: 0.8516 - accuracy: 0.7026\n",
            "Epoch 12/50\n",
            "1563/1563 [==============================] - 4s 3ms/step - loss: 0.8355 - accuracy: 0.7094\n",
            "Epoch 13/50\n",
            "1563/1563 [==============================] - 4s 3ms/step - loss: 0.8083 - accuracy: 0.7203\n",
            "Epoch 14/50\n",
            "1563/1563 [==============================] - 4s 3ms/step - loss: 0.8173 - accuracy: 0.7176\n",
            "Epoch 15/50\n",
            "1563/1563 [==============================] - 4s 3ms/step - loss: 0.7903 - accuracy: 0.7259\n",
            "Epoch 16/50\n",
            "1563/1563 [==============================] - 4s 3ms/step - loss: 0.7813 - accuracy: 0.7288\n",
            "Epoch 17/50\n",
            "1563/1563 [==============================] - 4s 3ms/step - loss: 0.7608 - accuracy: 0.7365\n",
            "Epoch 18/50\n",
            "1563/1563 [==============================] - 4s 3ms/step - loss: 0.7489 - accuracy: 0.7408\n",
            "Epoch 19/50\n",
            "1563/1563 [==============================] - 4s 3ms/step - loss: 0.7371 - accuracy: 0.7448\n",
            "Epoch 20/50\n",
            "1563/1563 [==============================] - 4s 3ms/step - loss: 0.7315 - accuracy: 0.7446\n",
            "Epoch 21/50\n",
            "1563/1563 [==============================] - 4s 3ms/step - loss: 0.7196 - accuracy: 0.7495\n",
            "Epoch 22/50\n",
            "1563/1563 [==============================] - 4s 3ms/step - loss: 0.7154 - accuracy: 0.7503\n",
            "Epoch 23/50\n",
            "1563/1563 [==============================] - 4s 3ms/step - loss: 0.7021 - accuracy: 0.7545\n",
            "Epoch 24/50\n",
            "1563/1563 [==============================] - 4s 3ms/step - loss: 0.6883 - accuracy: 0.7602\n",
            "Epoch 25/50\n",
            "1563/1563 [==============================] - 4s 3ms/step - loss: 0.6840 - accuracy: 0.7615\n",
            "Epoch 26/50\n",
            "1563/1563 [==============================] - 4s 3ms/step - loss: 0.6706 - accuracy: 0.7665\n",
            "Epoch 27/50\n",
            "1563/1563 [==============================] - 4s 3ms/step - loss: 0.6734 - accuracy: 0.7647\n",
            "Epoch 28/50\n",
            "1563/1563 [==============================] - 4s 3ms/step - loss: 0.6680 - accuracy: 0.7669\n",
            "Epoch 29/50\n",
            "1563/1563 [==============================] - 4s 3ms/step - loss: 0.6552 - accuracy: 0.7706\n",
            "Epoch 30/50\n",
            "1563/1563 [==============================] - 4s 3ms/step - loss: 0.6464 - accuracy: 0.7759\n",
            "Epoch 31/50\n",
            "1563/1563 [==============================] - 4s 3ms/step - loss: 0.6408 - accuracy: 0.7786\n",
            "Epoch 32/50\n",
            "1563/1563 [==============================] - 4s 3ms/step - loss: 0.6405 - accuracy: 0.7776\n",
            "Epoch 33/50\n",
            "1563/1563 [==============================] - 4s 3ms/step - loss: 0.6261 - accuracy: 0.7827\n",
            "Epoch 34/50\n",
            "1563/1563 [==============================] - 4s 3ms/step - loss: 0.6194 - accuracy: 0.7835\n",
            "Epoch 35/50\n",
            "1563/1563 [==============================] - 4s 3ms/step - loss: 0.6140 - accuracy: 0.7858\n",
            "Epoch 36/50\n",
            "1563/1563 [==============================] - 4s 3ms/step - loss: 0.6086 - accuracy: 0.7880\n",
            "Epoch 37/50\n",
            "1563/1563 [==============================] - 4s 3ms/step - loss: 0.6019 - accuracy: 0.7914\n",
            "Epoch 38/50\n",
            "1563/1563 [==============================] - 4s 3ms/step - loss: 0.5880 - accuracy: 0.7939\n",
            "Epoch 39/50\n",
            "1563/1563 [==============================] - 4s 3ms/step - loss: 0.5960 - accuracy: 0.7923\n",
            "Epoch 40/50\n",
            "1563/1563 [==============================] - 4s 3ms/step - loss: 0.5909 - accuracy: 0.7956\n",
            "Epoch 41/50\n",
            "1563/1563 [==============================] - 4s 3ms/step - loss: 0.5841 - accuracy: 0.7943\n",
            "Epoch 42/50\n",
            "1563/1563 [==============================] - 4s 3ms/step - loss: 0.5804 - accuracy: 0.7978\n",
            "Epoch 43/50\n",
            "1563/1563 [==============================] - 4s 3ms/step - loss: 0.5748 - accuracy: 0.7966\n",
            "Epoch 44/50\n",
            "1563/1563 [==============================] - 4s 3ms/step - loss: 0.5723 - accuracy: 0.8004\n",
            "Epoch 45/50\n",
            "1563/1563 [==============================] - 4s 3ms/step - loss: 0.5716 - accuracy: 0.7982\n",
            "Epoch 46/50\n",
            "1563/1563 [==============================] - 4s 3ms/step - loss: 0.5584 - accuracy: 0.8081\n",
            "Epoch 47/50\n",
            "1563/1563 [==============================] - 4s 3ms/step - loss: 0.5588 - accuracy: 0.8044\n",
            "Epoch 48/50\n",
            "1563/1563 [==============================] - 4s 3ms/step - loss: 0.5568 - accuracy: 0.8041\n",
            "Epoch 49/50\n",
            "1563/1563 [==============================] - 4s 3ms/step - loss: 0.5545 - accuracy: 0.8042\n",
            "Epoch 50/50\n",
            "1563/1563 [==============================] - 4s 3ms/step - loss: 0.5443 - accuracy: 0.8077\n"
          ],
          "name": "stdout"
        },
        {
          "output_type": "execute_result",
          "data": {
            "text/plain": [
              "<keras.callbacks.History at 0x7f9ea4af0f50>"
            ]
          },
          "metadata": {
            "tags": []
          },
          "execution_count": 85
        }
      ]
    },
    {
      "cell_type": "code",
      "metadata": {
        "colab": {
          "base_uri": "https://localhost:8080/",
          "height": 297
        },
        "id": "7lFUS5tgHCyp",
        "outputId": "763d8ba0-3307-4807-c874-f68633f98d35"
      },
      "source": [
        "plt.plot(pd.DataFrame(NetA.history.history))\n",
        "plt.xlabel('epochs')\n",
        "plt.legend(['accuracy'+'NetA'], loc='upper right')"
      ],
      "execution_count": 89,
      "outputs": [
        {
          "output_type": "execute_result",
          "data": {
            "text/plain": [
              "<matplotlib.legend.Legend at 0x7f9ea485ed10>"
            ]
          },
          "metadata": {
            "tags": []
          },
          "execution_count": 89
        },
        {
          "output_type": "display_data",
          "data": {
            "image/png": "[encoded data removed]",
            "text/plain": [
              "<Figure size 432x288 with 1 Axes>"
            ]
          },
          "metadata": {
            "tags": [],
            "needs_background": "light"
          }
        }
      ]
    },
    {
      "cell_type": "code",
      "metadata": {
        "colab": {
          "base_uri": "https://localhost:8080/",
          "height": 383
        },
        "id": "VLGFhY5FFTr3",
        "outputId": "b7184a01-8b2b-4045-cdae-71d34c7611d7"
      },
      "source": [
        "import pandas as pd\n",
        "nets = [NetA,NetB,NetC]\n",
        "Names = ['NetA','NetB','NetC']\n",
        "for net in nets:\n",
        "  plt.plot(pd.DataFrame(net.history.history)['accuracy'])\n",
        "  plt.xlabel('epochs')\n",
        "  plt.ylabel('accuracy')\n",
        "  print(net.evaluate(x_test,y_test))\n",
        "plt.legend(Names,loc = 'upper left')\n",
        "plt.show()"
      ],
      "execution_count": 100,
      "outputs": [
        {
          "output_type": "stream",
          "text": [
            "313/313 [==============================] - 1s 2ms/step - loss: 2.9662 - accuracy: 0.1507\n",
            "[2.966235399246216, 0.15070000290870667]\n",
            "313/313 [==============================] - 1s 2ms/step - loss: 1.4821 - accuracy: 0.4936\n",
            "[1.4821497201919556, 0.4936000108718872]\n",
            "313/313 [==============================] - 1s 2ms/step - loss: 1.5970 - accuracy: 0.5963\n",
            "[1.5969849824905396, 0.5963000059127808]\n"
          ],
          "name": "stdout"
        },
        {
          "output_type": "display_data",
          "data": {
            "image/png": "[encoded data removed]",
            "text/plain": [
              "<Figure size 432x288 with 1 Axes>"
            ]
          },
          "metadata": {
            "tags": [],
            "needs_background": "light"
          }
        }
      ]
    }
  ]
}